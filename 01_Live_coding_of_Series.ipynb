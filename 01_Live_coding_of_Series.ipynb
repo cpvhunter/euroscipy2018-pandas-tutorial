{
 "cells": [
  {
   "cell_type": "code",
   "execution_count": null,
   "metadata": {},
   "outputs": [],
   "source": [
    "import copy\n",
    "import operator\n",
    "\n",
    "\n",
    "class Series:\n",
    "    def __init__(self, data, index, name):\n",
    "        assert len(data) == len(index)\n",
    "        self.values = data\n",
    "        self.index = index\n",
    "        self.name = name\n",
    "\n",
    "    def __repr__(self):\n",
    "        result = ''\n",
    "        for index, value in zip(self.index, self.values):\n",
    "            result += f'{index}\\t{value}\\n'\n",
    "        result += f'Name: {self.name}' \n",
    "        return result\n",
    "\n",
    "    def __getitem__(self, key):\n",
    "        if isinstance(key, Series):\n",
    "            return Series(name=self.name,\n",
    "                          index=[idx for idx in self.index if key[idx]],\n",
    "                          data=[self[idx] for idx in self.index if key[idx]])\n",
    "        elif key in self.index:\n",
    "            key = self.index.index(key)\n",
    "        return self.values[key]\n",
    "\n",
    "    def __len__(self):\n",
    "        return len(self.index)\n",
    "\n",
    "    def sum(self):\n",
    "        return sum(self.values)\n",
    "\n",
    "    def mean(self):\n",
    "        return self.sum() / len(self)\n",
    "\n",
    "    def _op(self, op, other):\n",
    "        result = copy.deepcopy(self)\n",
    "        if isinstance(other, (int, float)):\n",
    "            result.values = [op(value, other) for value in self.values]\n",
    "        elif isinstance(other, Series):\n",
    "            result.values = [op(self[idx], other[idx]) for idx in self.index]\n",
    "        else:\n",
    "            raise NotImplementedError()\n",
    "        return result\n",
    "\n",
    "    def __add__(self, other):\n",
    "        return self._op(operator.add, other)\n",
    "\n",
    "    def __radd__(self, other):\n",
    "        return self + other\n",
    "\n",
    "    def __mul__(self, other):\n",
    "        return self._op(operator.mul, other)\n",
    "\n",
    "    def __rmul__(self, other):\n",
    "        return self * other\n",
    "\n",
    "    def __eq__(self, other):\n",
    "        return self._op(operator.eq, other)"
   ]
  },
  {
   "cell_type": "code",
   "execution_count": null,
   "metadata": {},
   "outputs": [],
   "source": [
    "legs = Series(data=[4, 8, 4, 2, 2],\n",
    "              index=['cat', 'octopus', 'horse', 'penguin', 'human'],\n",
    "              name='number of legs')"
   ]
  },
  {
   "cell_type": "code",
   "execution_count": null,
   "metadata": {},
   "outputs": [],
   "source": [
    "legs.index"
   ]
  },
  {
   "cell_type": "code",
   "execution_count": null,
   "metadata": {},
   "outputs": [],
   "source": [
    "legs.values"
   ]
  },
  {
   "cell_type": "code",
   "execution_count": null,
   "metadata": {},
   "outputs": [],
   "source": [
    "legs.name"
   ]
  },
  {
   "cell_type": "code",
   "execution_count": null,
   "metadata": {},
   "outputs": [],
   "source": [
    "legs"
   ]
  },
  {
   "cell_type": "code",
   "execution_count": null,
   "metadata": {},
   "outputs": [],
   "source": [
    "legs['octopus']"
   ]
  },
  {
   "cell_type": "code",
   "execution_count": null,
   "metadata": {},
   "outputs": [],
   "source": [
    "legs[-1]"
   ]
  },
  {
   "cell_type": "code",
   "execution_count": null,
   "metadata": {},
   "outputs": [],
   "source": [
    "len(legs)"
   ]
  },
  {
   "cell_type": "code",
   "execution_count": null,
   "metadata": {},
   "outputs": [],
   "source": [
    "legs.sum()"
   ]
  },
  {
   "cell_type": "code",
   "execution_count": null,
   "metadata": {},
   "outputs": [],
   "source": [
    "legs.mean()"
   ]
  },
  {
   "cell_type": "code",
   "execution_count": null,
   "metadata": {},
   "outputs": [],
   "source": [
    "legs + 10"
   ]
  },
  {
   "cell_type": "code",
   "execution_count": null,
   "metadata": {},
   "outputs": [],
   "source": [
    "10 + legs"
   ]
  },
  {
   "cell_type": "code",
   "execution_count": null,
   "metadata": {},
   "outputs": [],
   "source": [
    "arms = Series(data=[2, 0, 0, 0, 2],\n",
    "              index=['penguin', 'cat', 'octopus', 'horse', 'human'],\n",
    "              name='number of arms')\n",
    "\n",
    "legs + arms"
   ]
  },
  {
   "cell_type": "code",
   "execution_count": null,
   "metadata": {},
   "outputs": [],
   "source": [
    "legs * 10 + arms"
   ]
  },
  {
   "cell_type": "code",
   "execution_count": null,
   "metadata": {},
   "outputs": [],
   "source": [
    "legs == 4"
   ]
  },
  {
   "cell_type": "code",
   "execution_count": null,
   "metadata": {},
   "outputs": [],
   "source": [
    "legs[legs == 4]"
   ]
  },
  {
   "cell_type": "code",
   "execution_count": null,
   "metadata": {},
   "outputs": [],
   "source": [
    "arms[legs == 4]"
   ]
  }
 ],
 "metadata": {
  "kernelspec": {
   "display_name": "Python 3",
   "language": "python",
   "name": "python3"
  },
  "language_info": {
   "codemirror_mode": {
    "name": "ipython",
    "version": 3
   },
   "file_extension": ".py",
   "mimetype": "text/x-python",
   "name": "python",
   "nbconvert_exporter": "python",
   "pygments_lexer": "ipython3",
   "version": "3.7.0"
  }
 },
 "nbformat": 4,
 "nbformat_minor": 2
}
